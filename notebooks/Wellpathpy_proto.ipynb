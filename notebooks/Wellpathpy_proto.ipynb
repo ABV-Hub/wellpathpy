{
 "cells": [
  {
   "cell_type": "markdown",
   "metadata": {},
   "source": [
    "# wellpathpy prototype"
   ]
  },
  {
   "cell_type": "markdown",
   "metadata": {},
   "source": [
    "## Goal\n",
    "\n",
    "To build a light package to load well deviations\n",
    "\n",
    "## Objectives\n",
    "\n",
    "1. load well deviation in one of <_n_> formats:\n",
    "    * meta data (header, rkb, dfe, rt)\n",
    "    * md, incl, azi\n",
    "    * mE, mN, depth\n",
    "    * other ?,?,?\n",
    "2. interpolate survey using one of these methods:\n",
    "    * minimum curvature method\n",
    "    * radius of curvature method\n",
    "    * tangential method\n",
    "    * other ?\n",
    "3. calculate dog-leg severity\n",
    "4. calculate depth references using header data if available: MD, TVD, TVDSS\n",
    "5. return interpolated deviation in all <_n_> input formats and in all depth references if possible\n",
    "6. resample on regular steps\n",
    "\n",
    "## Sources of equations:\n",
    "\n",
    "- [petrowiki](https://petrowiki.org/Calculation_methods_for_directional_survey)\n",
    "- [Crain's Petrophysical Handbook](https://www.spec2000.net/19-dip13.htm)\n",
    "- [drillingformulas](http://www.drillingformulas.com)\n",
    "\n",
    "## software _architecture_\n",
    "\n",
    "(get input from Jørgen: `jokva`)\n",
    "\n",
    "- code to `list` (will then also accept `nd.array`)\n",
    "- data reader (chooses files to accept: `*.csv`, `*.xlsx`)\n",
    "- guess data types if not provided by user?\n",
    "- library of interpolation functions\n",
    "- depth calculation function\n",
    "- deploy to [pypi](https://pypi.org/)"
   ]
  },
  {
   "cell_type": "code",
   "execution_count": null,
   "metadata": {},
   "outputs": [],
   "source": [
    "import numpy as np\n",
    "import pandas as pd\n",
    "%matplotlib inline\n",
    "import matplotlib.pyplot as plt"
   ]
  },
  {
   "cell_type": "code",
   "execution_count": null,
   "metadata": {},
   "outputs": [],
   "source": [
    "df = pd.read_csv('../data/Well_Surveys_Projected_to_TD.csv', skiprows=4, usecols=['MD[m]',\n",
    "                                                                                 'Inc[deg]',\n",
    "                                                                                 'Azi[deg]',\n",
    "                                                                                 'Dogleg [deg/30m]',\n",
    "                                                                                 'TVD[m]',\n",
    "                                                                                 'North[m]',\n",
    "                                                                                 'East[m]'],\n",
    "                )\n",
    "df.head()"
   ]
  },
  {
   "cell_type": "code",
   "execution_count": null,
   "metadata": {},
   "outputs": [],
   "source": [
    "df.drop(df.tail(1).index,inplace=True)\n",
    "df.dropna(inplace=True)\n",
    "df.to_csv('../data/deviation.csv', index=False)"
   ]
  },
  {
   "cell_type": "code",
   "execution_count": null,
   "metadata": {},
   "outputs": [],
   "source": [
    "def read_deviation(fname):\n",
    "    \"\"\"\n",
    "    Read a deviation file into memory for processing\n",
    "    \n",
    "    Args:\n",
    "        filename\n",
    "        \n",
    "    Return:\n",
    "        pd.DataFrame\n",
    "        \n",
    "    \"\"\"\n",
    "    return pd.read_csv(fname)\n"
   ]
  },
  {
   "cell_type": "code",
   "execution_count": null,
   "metadata": {},
   "outputs": [],
   "source": [
    "read_deviation('../data/deviation.csv').head()"
   ]
  },
  {
   "cell_type": "code",
   "execution_count": null,
   "metadata": {},
   "outputs": [],
   "source": [
    "def get_header(datum='kb', units='m', elevation=0.):\n",
    "    \"\"\"\n",
    "    Record deviation header information needed for depth\n",
    "    reference calculation into DataFrame.\n",
    "    \n",
    "    Parameters\n",
    "    ----------\n",
    "    datum: str, default 'kb', {'kb', 'dfe', 'rt'}\n",
    "           'kb' (kellybushing),\n",
    "           'dfe' (drill floor elevation),\n",
    "           'rt' (rotary table)\n",
    "    units: str, default 'm', {'m', 'ft'}\n",
    "           'm' (metres),\n",
    "           'ft' (feet)\n",
    "    elevation: float, default 0., \n",
    "           <datum> <elevation> in <units> \n",
    "           above mean sea level\n",
    "    \n",
    "    Returns\n",
    "    -------\n",
    "    dict\n",
    "        deviation header dictionnary\n",
    "    \"\"\"\n",
    "    if datum not in {'kb', 'dfe', 'rt'}:\n",
    "        raise ValueError('datum must be kb, dfe or rt')\n",
    "    \n",
    "    if units not in {'m', 'ft'}:\n",
    "        raise ValueError('units must be m or ft')\n",
    " \n",
    "    try:\n",
    "        elevation = float(elevation + 0)\n",
    "    except TypeError:\n",
    "        raise TypeError('elevation must be float')\n",
    "        \n",
    "    return {'datum': datum, 'units': units, 'elevation': elevation}\n"
   ]
  },
  {
   "cell_type": "code",
   "execution_count": null,
   "metadata": {},
   "outputs": [],
   "source": [
    "get_headers(datum='kb', units='m', elevation=12)"
   ]
  },
  {
   "cell_type": "code",
   "execution_count": null,
   "metadata": {},
   "outputs": [],
   "source": [
    "def mdtotvd(deviation, method='mincurv'):\n",
    "    \"\"\"\n",
    "    Calculate TVD from given method.\n",
    "    \n",
    "    Parameters\n",
    "    ----------\n",
    "    deviation: DataFrame in MD, incl, azi\n",
    "    method: str, default 'tangential', {'tan', 'avtan', 'baltan', 'merc', 'radcurv', 'mincurv'}\n",
    "            'tan' (tangential method),  'avtan' (average tangential method),\n",
    "            'baltan' (balanced tangential method), 'merc' (mercury method),\n",
    "            'radcurv' (radius of curvature method), 'mincurv' (minimum curvature method)\n",
    "            method definitions: [Crain's Petrophysical Handbook](https://www.spec2000.net/19-dip13.htm)\n",
    "            \n",
    "    Returns\n",
    "    -------\n",
    "    DataFrame\n",
    "        deviation survey converted to TVD, easting, northing\n",
    "        \n",
    "    To Do\n",
    "    -----\n",
    "    implement methods\n",
    "            \n",
    "    \"\"\"\n",
    "\n",
    "    return deviation"
   ]
  },
  {
   "cell_type": "markdown",
   "metadata": {},
   "source": [
    "Source:  [Crain's Petrophysical Handbook](https://www.spec2000.net/19-dip13.htm)\n",
    "\n",
    "Definitions:\n",
    "  - East = easterly displacement (feet or meters) - negative = West\n",
    "  - HAZ1 = hole azimuth at top of course (degrees)\n",
    "  - HAZ2 = hole azimuth at bottom of course (degrees)\n",
    "  - MD1 = measured depth at top of course (feet or meters)\n",
    "  - MD2 = measured depth at bottom of course (feet or meters)\n",
    "  - North = northerly displacement (feet or meters) - negative = South\n",
    "  - TVD = true vertical depth (feet or meters)\n",
    "  - WD1 = well deviation at top of course (degrees)\n",
    "  - WD2 = well deviation at bottom of course (degrees)\n",
    "\n",
    "The minimum curvature method, like the radius of curvature method, takes the space vectors defined by inclination and direction measurements and smoothes these onto the wellbore curve by the use of a ratio factor which is defined by the curvature (dog-leg) of the wellbore section. The method produces a circular arc as does the radius of the curvature. This is not, however, an assumption of the method, but a result of minimizing the total curvature within the physical constraints on a section of wellbore.\n",
    "\n",
    "      1: DL = Arccos (Cos (WD2 - WD1) - Sin WD1 * Sin WD2 * (1 - Cos (HAZ2 - HAZ1)))\n",
    "      2: CF = 2 / DL * (Tan (DL / 2)) * 0.017 453\n",
    "      3: North = SUM ((MD2 - MD1)*((Sin WD1 * Cos HAZ1 + Sin WD2 * Cos HAZ2) / 2) * CF)\n",
    "      4: East = SUM ((MD2 - MD1) * ((Sin WD1 * Sin HAZ1 + Sin WD2 * Sin HAZ2) / 2) * CF)\n",
    "      5: TVD = SUM (((MD2 - MD1) * (Cos WD2 + Cos WD1) / 2) * CF)\n",
    "\n",
    "Where:\n",
    "\n",
    "  DL = dog leg severity (degrees)\n",
    "  \n",
    "  CF = curvature factor (radians)\n",
    "  \n",
    "  The term  0.017 453 converts degrees to radians."
   ]
  },
  {
   "cell_type": "code",
   "execution_count": null,
   "metadata": {},
   "outputs": [],
   "source": [
    "dev = read_deviation('../data/deviation.csv')\n",
    "dev.head()"
   ]
  },
  {
   "cell_type": "code",
   "execution_count": null,
   "metadata": {},
   "outputs": [],
   "source": [
    "dev['Inc[rad]'] = np.radians(dev['Inc[deg]'].values)\n",
    "dev['Azi[rad]'] = np.radians(dev['Azi[deg]'].values)\n",
    "dev.head()"
   ]
  },
  {
   "cell_type": "code",
   "execution_count": null,
   "metadata": {},
   "outputs": [],
   "source": [
    "dev_diff = dev.diff()"
   ]
  },
  {
   "cell_type": "code",
   "execution_count": null,
   "metadata": {},
   "outputs": [],
   "source": [
    "dev_diff.head()"
   ]
  },
  {
   "cell_type": "code",
   "execution_count": null,
   "metadata": {},
   "outputs": [],
   "source": [
    "dev_diff.rename(index=str, columns={'MD[m]': 'delta_MD[m]',\n",
    "                                    'Inc[deg]': 'delta_Inc[deg]',\n",
    "                                    'Azi[deg]': 'delta_Azi[deg]',\n",
    "                                    'Inc[rad]': 'delta_Inc[rad]',\n",
    "                                    'Azi[rad]': 'delta_Azi[rad]',\n",
    "                                    'Dogleg [deg/30m]': 'delta_Dogleg [deg/30m]',\n",
    "                                    'TVD[m]':'delta_TVD[m]',\n",
    "                                    'North[m]': 'delta_North[m]', \n",
    "                                    'East[m]': 'delta_East[m]',\n",
    "                                   },\n",
    "                inplace=True,\n",
    "               )"
   ]
  },
  {
   "cell_type": "code",
   "execution_count": null,
   "metadata": {},
   "outputs": [],
   "source": [
    "dev.reset_index(drop=True, inplace=True)\n",
    "dev_diff.reset_index(drop=True, inplace=True)"
   ]
  },
  {
   "cell_type": "code",
   "execution_count": null,
   "metadata": {},
   "outputs": [],
   "source": [
    "dev = pd.concat([dev, dev_diff], axis=1, join_axes=[dev_diff.index])\n",
    "dev.head()"
   ]
  },
  {
   "cell_type": "markdown",
   "metadata": {},
   "source": [
    "DL = Arccos (Cos (WD2 - WD1) - Sin WD1 * Sin WD2 * (1 - Cos (HAZ2 - HAZ1)))"
   ]
  },
  {
   "cell_type": "code",
   "execution_count": null,
   "metadata": {},
   "outputs": [],
   "source": [
    "cos_incl = np.cos(dev['delta_Inc[rad]'].values[1:])"
   ]
  },
  {
   "cell_type": "code",
   "execution_count": null,
   "metadata": {},
   "outputs": [],
   "source": [
    "incl_uppers = dev['Inc[rad]'].values[:-1]\n",
    "incl_lowers = dev['Inc[rad]'].values[1:]"
   ]
  },
  {
   "cell_type": "code",
   "execution_count": null,
   "metadata": {},
   "outputs": [],
   "source": [
    "sin_incl_product = np.sin(incl_uppers) * np.sin(incl_lowers)"
   ]
  },
  {
   "cell_type": "code",
   "execution_count": null,
   "metadata": {},
   "outputs": [],
   "source": [
    "az_uppers = dev['Azi[rad]'].values[:-1]\n",
    "az_lowers = dev['Azi[rad]'].values[1:]"
   ]
  },
  {
   "cell_type": "code",
   "execution_count": null,
   "metadata": {},
   "outputs": [],
   "source": [
    "cos_azi_diff = 1 - np.cos(az_lowers - az_uppers)"
   ]
  },
  {
   "cell_type": "code",
   "execution_count": null,
   "metadata": {},
   "outputs": [],
   "source": [
    "cos_incl.shape, sin_incl_product.shape, cos_azi_diff.shape"
   ]
  },
  {
   "cell_type": "code",
   "execution_count": null,
   "metadata": {},
   "outputs": [],
   "source": [
    "dl_temp = np.degrees(np.arccos(cos_incl - sin_incl_product * (cos_azi_diff)))"
   ]
  },
  {
   "cell_type": "code",
   "execution_count": null,
   "metadata": {},
   "outputs": [],
   "source": [
    "dev['DL'] = np.insert(dl_temp, 0, np.nan)\n",
    "dev.head()"
   ]
  },
  {
   "cell_type": "code",
   "execution_count": null,
   "metadata": {},
   "outputs": [],
   "source": [
    "fig, ax = plt.subplots(figsize=(6,8), nrows=1, ncols=1)\n",
    "\n",
    "ax.plot(dev.DL, dev['MD[m]'])\n",
    "ax.plot(dev['Dogleg [deg/30m]'], dev['MD[m]'])\n",
    "ax.set_ylim(dev['MD[m]'].values.max() + 100, 0)\n",
    "ax.set_title('Calculated vs imported DLS')\n",
    "labels = ['Calculated DLS', 'Imported DLS']\n",
    "plt.legend(labels)\n",
    "\n",
    "plt.show()"
   ]
  },
  {
   "cell_type": "markdown",
   "metadata": {},
   "source": [
    "CF = 2 / DL * (Tan (DL / 2)) * 0.017453\n",
    "\n",
    "The term 0.017453 converts degrees to radians."
   ]
  },
  {
   "cell_type": "code",
   "execution_count": null,
   "metadata": {},
   "outputs": [],
   "source": [
    "dev.head()"
   ]
  },
  {
   "cell_type": "code",
   "execution_count": null,
   "metadata": {},
   "outputs": [],
   "source": [
    "dev['CF'] = (2 / np.radians(dev['DL']) * np.tan(np.radians(dev['DL'])) / 2)\n",
    "dev.head()"
   ]
  },
  {
   "cell_type": "code",
   "execution_count": null,
   "metadata": {},
   "outputs": [],
   "source": [
    "fig, ax = plt.subplots(figsize=(6,8), nrows=1, ncols=1)\n",
    "\n",
    "ax.plot(dev.CF, dev['MD[m]'])\n",
    "ax.set_ylim(dev['MD[m]'].values.max() + 100, 0)\n",
    "ax.set_title('CF')\n",
    "labels = ['CF']\n",
    "\n",
    "plt.show()"
   ]
  },
  {
   "cell_type": "markdown",
   "metadata": {},
   "source": [
    "North = SUM ((MD2 - MD1)*((Sin WD1 * Cos HAZ1 + Sin WD2 * Cos HAZ2) / 2) * CF)"
   ]
  },
  {
   "cell_type": "code",
   "execution_count": null,
   "metadata": {},
   "outputs": [],
   "source": [
    "dev.head()"
   ]
  },
  {
   "cell_type": "code",
   "execution_count": null,
   "metadata": {},
   "outputs": [],
   "source": [
    "incl_uppers = dev['Inc[rad]'][:-1] \n",
    "incl_lowers = dev['Inc[rad]'][1:]\n",
    "azi_uppers = dev['Azi[rad]'][:-1]\n",
    "azi_lowers = dev['Azi[rad]'][1:]"
   ]
  },
  {
   "cell_type": "code",
   "execution_count": null,
   "metadata": {},
   "outputs": [],
   "source": [
    "sin_cos_inc_azi = (np.sin(incl_uppers) * np.cos(azi_uppers) + np.sin(incl_lowers) * np.cos(azi_lowers)) / 2"
   ]
  },
  {
   "cell_type": "code",
   "execution_count": null,
   "metadata": {},
   "outputs": [],
   "source": [
    "dev['northing[m]'] = dev['delta_MD[m]'].values * sin_cos_inc_azi * dev['CF']\n",
    "dev['northing[m]'] = dev['northing[m]'].cumsum()\n",
    "dev.head()"
   ]
  },
  {
   "cell_type": "markdown",
   "metadata": {},
   "source": [
    "East = SUM ((MD2 - MD1) * ((Sin WD1 * Sin HAZ1 + Sin WD2 * Sin HAZ2) / 2) * CF)"
   ]
  },
  {
   "cell_type": "code",
   "execution_count": null,
   "metadata": {},
   "outputs": [],
   "source": [
    "sin_sin_inc_azi = (np.sin(incl_uppers) * np.sin(azi_uppers) + np.sin(incl_lowers) * np.sin(azi_lowers)) / 2"
   ]
  },
  {
   "cell_type": "code",
   "execution_count": null,
   "metadata": {},
   "outputs": [],
   "source": [
    "dev['easting[m]'] = dev['delta_MD[m]'] * sin_sin_inc_azi * dev['CF']\n",
    "dev['easting[m]'] = dev['easting[m]'].cumsum()\n",
    "dev.head()"
   ]
  },
  {
   "cell_type": "code",
   "execution_count": null,
   "metadata": {},
   "outputs": [],
   "source": [
    "plt.plot(dev['easting[m]'], dev['northing[m]'])"
   ]
  },
  {
   "cell_type": "markdown",
   "metadata": {},
   "source": [
    "TVD = SUM (((MD2 - MD1) * (Cos WD2 + Cos WD1) / 2) * CF)"
   ]
  },
  {
   "cell_type": "code",
   "execution_count": null,
   "metadata": {},
   "outputs": [],
   "source": [
    "dev.head()"
   ]
  },
  {
   "cell_type": "code",
   "execution_count": null,
   "metadata": {},
   "outputs": [],
   "source": [
    "incl_uppers = dev['Inc[rad]'].values[:-1]\n",
    "incl_lowers = dev['Inc[rad]'].values[1:]"
   ]
  },
  {
   "cell_type": "code",
   "execution_count": null,
   "metadata": {},
   "outputs": [],
   "source": [
    "tvd_temp = dev['delta_MD[m]'].values[1:] * (np.cos(incl_lowers) + np.cos(incl_uppers)) / 2 * dev['CF'].values[1:]\n",
    "dev['TVD'] = np.insert(tvd_temp, 0, np.nan)\n",
    "dev['TVD'] = dev['TVD'].cumsum()\n",
    "dev.head()"
   ]
  },
  {
   "cell_type": "code",
   "execution_count": null,
   "metadata": {
    "scrolled": true
   },
   "outputs": [],
   "source": [
    "plt.plot(dev['TVD'])\n",
    "plt.xlim(80, 0)\n",
    "plt.ylim(2000, 0)\n",
    "plt.title('TVD plot')"
   ]
  },
  {
   "cell_type": "code",
   "execution_count": null,
   "metadata": {},
   "outputs": [],
   "source": [
    "dev.columns"
   ]
  },
  {
   "cell_type": "code",
   "execution_count": null,
   "metadata": {},
   "outputs": [],
   "source": [
    "fig, ax = plt.subplots(figsize=(6,8), nrows=1, ncols=1)\n",
    "\n",
    "ax.plot(dev.TVD, dev['MD[m]'])\n",
    "ax.plot(dev['TVD[m]'], dev['MD[m]'])\n",
    "ax.set_ylim(dev['MD[m]'].values.max() + 100, 0)\n",
    "ax.set_title('TVD plot')\n",
    "labels = ['Calculated TVD', 'Imported TVD']\n",
    "plt.legend(labels)\n",
    "\n",
    "plt.show()"
   ]
  },
  {
   "cell_type": "code",
   "execution_count": null,
   "metadata": {},
   "outputs": [],
   "source": []
  }
 ],
 "metadata": {
  "kernelspec": {
   "display_name": "wellpath",
   "language": "python",
   "name": "wellpath"
  },
  "language_info": {
   "codemirror_mode": {
    "name": "ipython",
    "version": 3
   },
   "file_extension": ".py",
   "mimetype": "text/x-python",
   "name": "python",
   "nbconvert_exporter": "python",
   "pygments_lexer": "ipython3",
   "version": "3.7.3"
  }
 },
 "nbformat": 4,
 "nbformat_minor": 2
}
