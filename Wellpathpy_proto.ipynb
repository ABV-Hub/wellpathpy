{
 "cells": [
  {
   "cell_type": "markdown",
   "metadata": {},
   "source": [
    "# wellpathpy prototype"
   ]
  },
  {
   "cell_type": "markdown",
   "metadata": {},
   "source": [
    "## Goal\n",
    "\n",
    "To build a light package to load well deviations\n",
    "\n",
    "## Objectives\n",
    "\n",
    "1. load well deviation in one of <_n_> formats:\n",
    "    * meta data (header, rkb, dfe, rt)\n",
    "    * md, incl, azi\n",
    "    * mE, mN, depth\n",
    "    * other ?,?,?\n",
    "2. interpolate survey using one of these methods:\n",
    "    * minimum curvature method\n",
    "    * radius of curvature method\n",
    "    * tangential method\n",
    "    * other ?\n",
    "3. calculate dog-leg severity\n",
    "4. calculate depth references using header data if available: MD, TVD, TVDSS\n",
    "5. return interpolated deviation in all <_n_> input formats and in all depth references if possible\n",
    "\n",
    "## Sources of equations:\n",
    "\n",
    "- [petrowiki](https://petrowiki.org/Calculation_methods_for_directional_survey)\n",
    "- [Crain's Petrophysical Handbook](https://www.spec2000.net/19-dip13.htm)\n",
    "- [drillingformulas](http://www.drillingformulas.com)\n",
    "\n",
    "## software _architecture_\n",
    "\n",
    "(get input from Jørgen: `jokva`)\n",
    "\n",
    "- code to `list` (will then also accept `nd.array`)\n",
    "- data reader (chooses files to accept: `*.csv`, `*.xlsx`)\n",
    "- guess data types if not provided by user?\n",
    "- library of interpolation functions\n",
    "- depth calculation function\n",
    "- deploy to [pypi](https://pypi.org/)"
   ]
  },
  {
   "cell_type": "code",
   "execution_count": 1,
   "metadata": {},
   "outputs": [],
   "source": [
    "import numpy as np\n",
    "import pandas as pd"
   ]
  },
  {
   "cell_type": "code",
   "execution_count": 18,
   "metadata": {},
   "outputs": [
    {
     "data": {
      "text/html": [
       "<div>\n",
       "<style scoped>\n",
       "    .dataframe tbody tr th:only-of-type {\n",
       "        vertical-align: middle;\n",
       "    }\n",
       "\n",
       "    .dataframe tbody tr th {\n",
       "        vertical-align: top;\n",
       "    }\n",
       "\n",
       "    .dataframe thead th {\n",
       "        text-align: right;\n",
       "    }\n",
       "</style>\n",
       "<table border=\"1\" class=\"dataframe\">\n",
       "  <thead>\n",
       "    <tr style=\"text-align: right;\">\n",
       "      <th></th>\n",
       "      <th>MD[m]</th>\n",
       "      <th>Inc[deg]</th>\n",
       "      <th>Azi[deg]</th>\n",
       "    </tr>\n",
       "  </thead>\n",
       "  <tbody>\n",
       "    <tr>\n",
       "      <th>0</th>\n",
       "      <td>0</td>\n",
       "      <td>0.0</td>\n",
       "      <td>0.00</td>\n",
       "    </tr>\n",
       "    <tr>\n",
       "      <th>1</th>\n",
       "      <td>76.29</td>\n",
       "      <td>0.9</td>\n",
       "      <td>7.19</td>\n",
       "    </tr>\n",
       "    <tr>\n",
       "      <th>2</th>\n",
       "      <td>104.36</td>\n",
       "      <td>0.9</td>\n",
       "      <td>17.20</td>\n",
       "    </tr>\n",
       "    <tr>\n",
       "      <th>3</th>\n",
       "      <td>134</td>\n",
       "      <td>0.9</td>\n",
       "      <td>15.59</td>\n",
       "    </tr>\n",
       "    <tr>\n",
       "      <th>4</th>\n",
       "      <td>162.73</td>\n",
       "      <td>1.1</td>\n",
       "      <td>6.39</td>\n",
       "    </tr>\n",
       "  </tbody>\n",
       "</table>\n",
       "</div>"
      ],
      "text/plain": [
       "    MD[m]  Inc[deg]  Azi[deg]\n",
       "0       0       0.0      0.00\n",
       "1   76.29       0.9      7.19\n",
       "2  104.36       0.9     17.20\n",
       "3     134       0.9     15.59\n",
       "4  162.73       1.1      6.39"
      ]
     },
     "execution_count": 18,
     "metadata": {},
     "output_type": "execute_result"
    }
   ],
   "source": [
    "df = pd.read_csv('./data/Well_Surveys_Projected_to_TD.csv', skiprows=4, usecols=['MD[m]','Inc[deg]','Azi[deg]'])\n",
    "df.head()"
   ]
  },
  {
   "cell_type": "code",
   "execution_count": 19,
   "metadata": {},
   "outputs": [],
   "source": [
    "df.drop(df.tail(1).index,inplace=True)\n",
    "df.dropna(inplace=True)\n",
    "df.to_csv('./data/deviation.csv', index=False)"
   ]
  },
  {
   "cell_type": "code",
   "execution_count": 31,
   "metadata": {},
   "outputs": [],
   "source": [
    "def read_deviation(fname):\n",
    "    \"\"\"\n",
    "    Read a deviation file into memory for processing\n",
    "    \n",
    "    Args:\n",
    "        filename\n",
    "        \n",
    "    Return:\n",
    "        pd.DataFrame\n",
    "        \n",
    "    \"\"\"\n",
    "    return pd.read_csv(fname)\n"
   ]
  },
  {
   "cell_type": "code",
   "execution_count": 32,
   "metadata": {},
   "outputs": [
    {
     "data": {
      "text/html": [
       "<div>\n",
       "<style scoped>\n",
       "    .dataframe tbody tr th:only-of-type {\n",
       "        vertical-align: middle;\n",
       "    }\n",
       "\n",
       "    .dataframe tbody tr th {\n",
       "        vertical-align: top;\n",
       "    }\n",
       "\n",
       "    .dataframe thead th {\n",
       "        text-align: right;\n",
       "    }\n",
       "</style>\n",
       "<table border=\"1\" class=\"dataframe\">\n",
       "  <thead>\n",
       "    <tr style=\"text-align: right;\">\n",
       "      <th></th>\n",
       "      <th>MD[m]</th>\n",
       "      <th>Inc[deg]</th>\n",
       "      <th>Azi[deg]</th>\n",
       "    </tr>\n",
       "  </thead>\n",
       "  <tbody>\n",
       "    <tr>\n",
       "      <th>0</th>\n",
       "      <td>0.00</td>\n",
       "      <td>0.0</td>\n",
       "      <td>0.00</td>\n",
       "    </tr>\n",
       "    <tr>\n",
       "      <th>1</th>\n",
       "      <td>76.29</td>\n",
       "      <td>0.9</td>\n",
       "      <td>7.19</td>\n",
       "    </tr>\n",
       "    <tr>\n",
       "      <th>2</th>\n",
       "      <td>104.36</td>\n",
       "      <td>0.9</td>\n",
       "      <td>17.20</td>\n",
       "    </tr>\n",
       "    <tr>\n",
       "      <th>3</th>\n",
       "      <td>134.00</td>\n",
       "      <td>0.9</td>\n",
       "      <td>15.59</td>\n",
       "    </tr>\n",
       "    <tr>\n",
       "      <th>4</th>\n",
       "      <td>162.73</td>\n",
       "      <td>1.1</td>\n",
       "      <td>6.39</td>\n",
       "    </tr>\n",
       "  </tbody>\n",
       "</table>\n",
       "</div>"
      ],
      "text/plain": [
       "    MD[m]  Inc[deg]  Azi[deg]\n",
       "0    0.00       0.0      0.00\n",
       "1   76.29       0.9      7.19\n",
       "2  104.36       0.9     17.20\n",
       "3  134.00       0.9     15.59\n",
       "4  162.73       1.1      6.39"
      ]
     },
     "execution_count": 32,
     "metadata": {},
     "output_type": "execute_result"
    }
   ],
   "source": [
    "read_deviation('./data/deviation.csv').head()"
   ]
  },
  {
   "cell_type": "code",
   "execution_count": 37,
   "metadata": {},
   "outputs": [],
   "source": [
    "# should a deviation be a Class?\n",
    "def get_headers(datum='kb', units='m', elevation=0.):\n",
    "    \"\"\"\n",
    "    Record deviation header information needed for depth reference calculation into DataFrame.\n",
    "    \n",
    "    Parameters\n",
    "    ----------\n",
    "    datum : str, default 'kb', {'kb', 'dfe', 'rt'}\n",
    "            'kb' (kellybushing), 'dfe' (drill floor elevation), 'rt' (rotary table)\n",
    "    units: str, default 'm', {'m', 'ft'}\n",
    "            'm' (metres), 'ft' (feet)\n",
    "    elevation: float, default 0., \n",
    "            <datum> <elevation> in <units> above mean sea level\n",
    "    \n",
    "    Returns\n",
    "    -------\n",
    "    DataFrame\n",
    "        deviation header dictionnary\n",
    "    \"\"\"\n",
    "    dev_header = {}\n",
    "    dev_header.update({'datum': datum, 'units': units, 'elevation': elevation})\n",
    "    \n",
    "    return dev_header"
   ]
  },
  {
   "cell_type": "code",
   "execution_count": 38,
   "metadata": {},
   "outputs": [
    {
     "data": {
      "text/plain": [
       "{'datum': 'kb', 'units': 'm', 'elevation': 12}"
      ]
     },
     "execution_count": 38,
     "metadata": {},
     "output_type": "execute_result"
    }
   ],
   "source": [
    "get_headers(datum='kb', units='m', elevation=12)"
   ]
  },
  {
   "cell_type": "code",
   "execution_count": 40,
   "metadata": {},
   "outputs": [],
   "source": [
    "def mdtotvd(deviation, method='tan'):\n",
    "    \"\"\"\n",
    "    Calculate TVD from given method.\n",
    "    \n",
    "    Parameters\n",
    "    ----------\n",
    "    deviation: DataFrame in MD, incl, azi\n",
    "    method: str, default 'tangential', {'tan', 'avtan', 'baltan', 'merc', 'radcurv', 'mincurv'}\n",
    "            'tan' (tangential method),  'avtan' (average tangential method),\n",
    "            'baltan' (balanced tangential method), 'merc' (mercury method),\n",
    "            'radcurv' (radius of curvature method), 'mincurv' (minimum curvature method)\n",
    "            method definitions: [Crain's Petrophysical Handbook](https://www.spec2000.net/19-dip13.htm)\n",
    "            \n",
    "    Returns\n",
    "    -------\n",
    "    DataFrame\n",
    "        deviation survey converted to TVD, easting, northing\n",
    "        \n",
    "    To Do\n",
    "    -----\n",
    "    implement methods\n",
    "            \n",
    "    \"\"\"\n",
    "    \n",
    "    return deviation"
   ]
  },
  {
   "cell_type": "code",
   "execution_count": null,
   "metadata": {},
   "outputs": [],
   "source": [
    "mdtotvd()"
   ]
  }
 ],
 "metadata": {
  "kernelspec": {
   "display_name": "wellpath",
   "language": "python",
   "name": "wellpath"
  },
  "language_info": {
   "codemirror_mode": {
    "name": "ipython",
    "version": 3
   },
   "file_extension": ".py",
   "mimetype": "text/x-python",
   "name": "python",
   "nbconvert_exporter": "python",
   "pygments_lexer": "ipython3",
   "version": "3.7.3"
  }
 },
 "nbformat": 4,
 "nbformat_minor": 2
}
